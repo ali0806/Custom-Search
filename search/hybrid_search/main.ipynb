{
 "cells": [
  {
   "cell_type": "code",
   "execution_count": null,
   "metadata": {},
   "outputs": [],
   "source": [
    "import gradio as gr\n",
    "from hybrid_search_unsplash import hybrid_search_main\n",
    "# from hybrid_search__XMRec import hybrid_search_main"
   ]
  },
  {
   "cell_type": "code",
   "execution_count": null,
   "metadata": {},
   "outputs": [],
   "source": [
    "with gr.Blocks() as demo:\n",
    "    with gr.Column():\n",
    "        with gr.Row():\n",
    "            textbox = gr.Textbox(label=\"Text Query\")\n",
    "            btn = gr.Button(\"Search\", scale=0)\n",
    "\n",
    "        # number = gr.Number(label=\"Number of images to retrieve\")\n",
    "        \n",
    "        with gr.Row():\n",
    "            # Add input fields for vector and keyword search boost levels\n",
    "            vector_boost = gr.Number(label=\"Vector Search Boost Level\")\n",
    "            bm25_boost = gr.Number(label=\"Keyword Search Boost Level\")\n",
    "        \n",
    "        gallery = gr.Gallery(label=\"Similar images\",\n",
    "                             show_label=False,\n",
    "                             elem_id=\"gallery\",\n",
    "                             columns=[6],\n",
    "                             object_fit=\"cover\",\n",
    "                             height=\"1000px\"\n",
    "                             )\n",
    "\n",
    "        \n",
    "        # Include the new input fields in the button click function\n",
    "        btn.click(fn=hybrid_search_main,\n",
    "                  inputs=[textbox, vector_boost, bm25_boost],\n",
    "                  outputs=gallery)\n",
    "\n",
    "demo.launch()"
   ]
  },
  {
   "cell_type": "code",
   "execution_count": null,
   "metadata": {},
   "outputs": [],
   "source": [
    "import pandas as pd\n",
    "\n",
    "# Read the TSV files\n",
    "photos_df = pd.read_csv('../../dataset/unsplash-research-dataset-lite-latest/photos.tsv000', sep='\\t')\n",
    "# Select specific columns\n",
    "photos_df_test = photos_df[['photo_id','photo_url', 'photo_submitted_at', 'photo_description', 'photo_location_country', 'photo_location_city','ai_description' ]]\n",
    "\n",
    "\n",
    "# Sort the dataframes by 'photo_id'\n",
    "photos_df_test = photos_df_test.sort_values('photo_id')\n",
    "\n",
    "# print(photos_df_test.head(10))\n",
    "\n",
    "\n",
    "# Define the columns to merge\n",
    "cols_to_merge = ['photo_submitted_at', 'photo_description', 'photo_location_country', 'photo_location_city', 'ai_description']\n",
    "\n",
    "# Merge the columns\n",
    "photos_df_test['meta_data'] = photos_df_test[cols_to_merge].apply(lambda x: ', '.join(x.dropna()), axis=1)\n",
    "\n",
    "# Drop the original columns\n",
    "photos_df_test = photos_df_test.drop(columns=cols_to_merge)\n",
    "\n",
    "# Display the first 5 rows of the dataframe\n",
    "print(photos_df_test.head(50))\n",
    "\n",
    "\n",
    "import json\n",
    "\n",
    "# Convert each row of the DataFrame to a dictionary and write to a JSON file\n",
    "with open('meta_data.json', 'w', encoding='utf-8') as f:\n",
    "    for _, row in photos_df_test.iterrows():\n",
    "        json.dump(row.to_dict(), f, ensure_ascii=False)\n",
    "        f.write('\\n')\n"
   ]
  },
  {
   "cell_type": "code",
   "execution_count": null,
   "metadata": {},
   "outputs": [],
   "source": [
    "import json\n",
    "unsplash_data = \"./meta_data.json\"\n",
    "\n",
    "def load_file(file_path):\n",
    "    try:\n",
    "        json_objects = []\n",
    "        with open(file_path, \"r\") as json_file:\n",
    "            for line in json_file:\n",
    "                data = json.loads(line)\n",
    "                json_objects.append(data)\n",
    "        print(\"Done\")\n",
    "    finally:\n",
    "        json_file.close()\n",
    "    return json_objects\n",
    "\n",
    "meta_data = load_file(unsplash_data)\n",
    "meta_data = meta_data[2][\"meta_data\"]\n",
    "meta_data"
   ]
  }
 ],
 "metadata": {
  "kernelspec": {
   "display_name": "opensearch",
   "language": "python",
   "name": "python3"
  },
  "language_info": {
   "codemirror_mode": {
    "name": "ipython",
    "version": 3
   },
   "file_extension": ".py",
   "mimetype": "text/x-python",
   "name": "python",
   "nbconvert_exporter": "python",
   "pygments_lexer": "ipython3",
   "version": "3.9.19"
  }
 },
 "nbformat": 4,
 "nbformat_minor": 2
}
